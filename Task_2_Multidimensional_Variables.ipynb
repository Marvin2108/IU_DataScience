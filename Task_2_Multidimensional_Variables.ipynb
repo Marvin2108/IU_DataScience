{
 "cells": [
  {
   "cell_type": "code",
   "execution_count": 2,
   "id": "0d1a17a5",
   "metadata": {},
   "outputs": [],
   "source": [
    "import numpy as np\n",
    "import matplotlib.pyplot as plt \n",
    "import seaborn as sns\n",
    "\n",
    "import pandas as pd"
   ]
  },
  {
   "cell_type": "code",
   "execution_count": 3,
   "id": "ddf658f3",
   "metadata": {},
   "outputs": [
    {
     "data": {
      "text/plain": [
       "Text(0, 0.5, 'y')"
      ]
     },
     "execution_count": 3,
     "metadata": {},
     "output_type": "execute_result"
    },
    {
     "data": {
      "image/png": "[encoded data removed]",
      "text/plain": [
       "<Figure size 432x288 with 1 Axes>"
      ]
     },
     "metadata": {
      "needs_background": "light"
     },
     "output_type": "display_data"
    }
   ],
   "source": [
    "# Werte zuweisen\n",
    "x = np.array([10.166,-6.414,1.547,8.191,0.058,-5.284,-7.201,-3.519,0.516,-6.127,1.542,2.112,6.352,4.325,-1.42,5.815,-0.076,4.592,0.143,0.676])\n",
    "y = np.array([986.02,1365.78,-920.26,223.3,-970.35,93.08,-70.92,-693.06,-44.29,-356.73,699.49,-11.89,948.52,-102.34,-851.02,-653.26,-302.93,-149.45,-899.16,-255.77])\n",
    "\n",
    "# Visualisierung im Scatterplot\n",
    "plt.scatter(x,y)\n",
    "plt.xlabel(\"x\")\n",
    "plt.ylabel(\"y\")"
   ]
  },
  {
   "cell_type": "code",
   "execution_count": 17,
   "id": "916f8b64",
   "metadata": {},
   "outputs": [
    {
     "name": "stdout",
     "output_type": "stream",
     "text": [
      "Die Kovarianz beträgt = 572.9450441052634\n",
      "\n",
      "Erwartungswert X = 0.7997000000000003\n",
      "Erwartungswert Y = -98.26199999999999\n",
      "\n",
      "Varianz X = 23.918028115789475\n",
      "Varianz Y = 454980.5242905263\n"
     ]
    }
   ],
   "source": [
    "# Numpy-Array in pandas Dataframe umwandeln\n",
    "new_data = np.stack((x,y),axis=-1)\n",
    "df = pd.DataFrame(new_data,columns=[\"X\",\"Y\"], index=np.arange(1,21))\n",
    "\n",
    "# Kovarianz-Matrix berechnen\n",
    "covariance_matrix=df.cov()\n",
    "\n",
    "# Entsprechende Kovarianz auslesen\n",
    "print(\"Die Kovarianz beträgt =\",covariance_matrix.loc['X','Y'])\n",
    "\n",
    "# Berechnen und Ausgeben entsprechender Werte:\n",
    "print(\"\\nErwartungswert X =\", df['X'].mean())\n",
    "print(\"Erwartungswert Y =\", df['Y'].mean())\n",
    "print(\"\\nVarianz X =\", df['X'].var())\n",
    "print(\"Varianz Y =\", df['Y'].var())\n"
   ]
  },
  {
   "cell_type": "code",
   "execution_count": 5,
   "id": "f2ef35d3",
   "metadata": {},
   "outputs": [
    {
     "name": "stdout",
     "output_type": "stream",
     "text": [
      "Die Kovarianz beträgt = 572.9450441052634\n",
      "\n",
      "Erwartungswert X = 0.7997000000000003\n",
      "Erwartungswert Y = -98.26199999999999\n",
      "\n",
      "Varianz X = 23.918028115789475\n",
      "Varianz Y = 454980.5242905263\n"
     ]
    }
   ],
   "source": [
    "print(\"Die Kovarianz beträgt =\",covariance_matrix.loc['X','Y'])\n",
    "print(\"\\nErwartungswert X =\", df['X'].mean())\n",
    "print(\"Erwartungswert Y =\", df['Y'].mean())\n",
    "print(\"\\nVarianz X =\", df['X'].var())\n",
    "print(\"Varianz Y =\", df['Y'].var())\n",
    "\n",
    "#print(df.corr())"
   ]
  },
  {
   "cell_type": "code",
   "execution_count": 16,
   "id": "94d2dd7b",
   "metadata": {},
   "outputs": [
    {
     "name": "stderr",
     "output_type": "stream",
     "text": [
      "/Users/marvinschmitt/opt/anaconda3/lib/python3.8/site-packages/seaborn/_decorators.py:36: FutureWarning: Pass the following variables as keyword args: x, y. From version 0.12, the only valid positional argument will be `data`, and passing other arguments without an explicit keyword will result in an error or misinterpretation.\n",
      "  warnings.warn(\n"
     ]
    },
    {
     "data": {
      "text/plain": [
       "Text(0, 0.5, 'Y')"
      ]
     },
     "execution_count": 16,
     "metadata": {},
     "output_type": "execute_result"
    },
    {
     "data": {
      "image/png": "[encoded data removed]",
      "text/plain": [
       "<Figure size 432x288 with 1 Axes>"
      ]
     },
     "metadata": {
      "needs_background": "light"
     },
     "output_type": "display_data"
    }
   ],
   "source": [
    "sns.regplot(x,y,ci=None)\n",
    "plt.xlabel(\"X\")\n",
    "plt.ylabel(\"Y\")"
   ]
  },
  {
   "cell_type": "code",
   "execution_count": null,
   "id": "c0cda782",
   "metadata": {},
   "outputs": [],
   "source": []
  }
 ],
 "metadata": {
  "kernelspec": {
   "display_name": "Python 3",
   "language": "python",
   "name": "python3"
  },
  "language_info": {
   "codemirror_mode": {
    "name": "ipython",
    "version": 3
   },
   "file_extension": ".py",
   "mimetype": "text/x-python",
   "name": "python",
   "nbconvert_exporter": "python",
   "pygments_lexer": "ipython3",
   "version": "3.8.8"
  }
 },
 "nbformat": 4,
 "nbformat_minor": 5
}
